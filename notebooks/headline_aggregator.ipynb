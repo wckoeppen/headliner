{
 "cells": [
  {
   "cell_type": "code",
   "execution_count": 12,
   "metadata": {},
   "outputs": [],
   "source": [
    "import json\n",
    "import sys\n",
    "import os"
   ]
  },
  {
   "cell_type": "code",
   "execution_count": null,
   "metadata": {},
   "outputs": [],
   "source": [
    "def find_files(base_dir, begin_date, end_date):\n",
    "    \n",
    "    search_dirs = []\n",
    "    \n",
    "    stop_date = begin_date\n",
    "\n",
    "    while stop_date < (end_date + relativedelta(months = +1)):\n",
    "        search_dirs.append(stop_date.strftime('%Y/%Y_%m'))\n",
    "\n",
    "        stop_date += relativedelta(months = +1)\n",
    "\n",
    "    filenames=[]\n",
    "\n",
    "    for search_dir in search_dirs:\n",
    "        filenames += sorted(glob.glob(os.path.join(base_dir, search_dir, '*.nc')))\n",
    "        \n",
    "    return filenames"
   ]
  },
  {
   "cell_type": "code",
   "execution_count": 7,
   "metadata": {},
   "outputs": [],
   "source": [
    "filename = \"/home/will/Projects/headliner/headline-store-json/the-new-york-times-2019-12-26T12:00:00-p001.json\"\n",
    "\n",
    "with open(filename, \"r\") as file:\n",
    "    data = json.load(file)"
   ]
  },
  {
   "cell_type": "code",
   "execution_count": 11,
   "metadata": {},
   "outputs": [
    {
     "data": {
      "text/plain": [
       "dict_keys(['status', 'totalResults', 'articles'])"
      ]
     },
     "execution_count": 11,
     "metadata": {},
     "output_type": "execute_result"
    }
   ],
   "source": []
  },
  {
   "cell_type": "code",
   "execution_count": null,
   "metadata": {},
   "outputs": [],
   "source": []
  }
 ],
 "metadata": {
  "file_extension": ".py",
  "kernelspec": {
   "display_name": "Python 3",
   "language": "python",
   "name": "python3"
  },
  "language_info": {
   "codemirror_mode": {
    "name": "ipython",
    "version": 3
   },
   "file_extension": ".py",
   "mimetype": "text/x-python",
   "name": "python",
   "nbconvert_exporter": "python",
   "pygments_lexer": "ipython3",
   "version": "3.7.3"
  },
  "mimetype": "text/x-python",
  "name": "python",
  "npconvert_exporter": "python",
  "pygments_lexer": "ipython3",
  "version": 3
 },
 "nbformat": 4,
 "nbformat_minor": 4
}
