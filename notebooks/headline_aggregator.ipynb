{
 "cells": [
  {
   "cell_type": "markdown",
   "metadata": {},
   "source": [
    "## A notebook for testing headline processing\n",
    "But this version used the OLD format of the NYT headlines, which were from news-api. Since then, NYT headliens were no longer served by NewsAPI so it needs a separate method. Then, sometime between January and April 2020, newsapi started serving from nytimes.com."
   ]
  },
  {
   "cell_type": "code",
   "execution_count": 1,
   "metadata": {},
   "outputs": [],
   "source": [
    "import json\n",
    "import glob\n",
    "import os\n",
    "from datetime import datetime, timedelta\n",
    "import pandas"
   ]
  },
  {
   "cell_type": "code",
   "execution_count": 2,
   "metadata": {},
   "outputs": [],
   "source": [
    "def find_files(base_dir, begin_date, end_date):\n",
    "    \n",
    "    n_days = int((end_date - begin_date).total_seconds()/60/60/24)\n",
    "    date_list = [begin_date + timedelta(days=x) for x in range(n_days+1)]\n",
    "    \n",
    "    search_strs = []\n",
    "    \n",
    "    for date in date_list:\n",
    "        search_strs.append(date.strftime('%Y-%m-%d'))\n",
    "\n",
    "    filenames=[]\n",
    "\n",
    "    for search_str in search_strs:\n",
    "        \n",
    "        filenames += sorted(glob.glob(os.path.join(base_dir, '*' + search_str + '*.json')))\n",
    "        \n",
    "    return filenames"
   ]
  },
  {
   "cell_type": "code",
   "execution_count": 6,
   "metadata": {},
   "outputs": [],
   "source": [
    "base_dir = \"/home/will/Projects/headliner/datastore/raw/the-new-york-times-old/\"\n",
    "begin_date = datetime(2019, 12, 27)\n",
    "end_date = datetime(2019, 12, 27)"
   ]
  },
  {
   "cell_type": "code",
   "execution_count": 7,
   "metadata": {},
   "outputs": [],
   "source": [
    "filenames = find_files(base_dir, begin_date, end_date)"
   ]
  },
  {
   "cell_type": "code",
   "execution_count": 8,
   "metadata": {},
   "outputs": [
    {
     "name": "stdout",
     "output_type": "stream",
     "text": [
      "/home/will/Projects/headliner/datastore/raw/the-new-york-times-old/the-new-york-times-2019-12-27T00:00:00-p001.json\n"
     ]
    }
   ],
   "source": [
    "print(filenames[0])\n",
    "with open(filenames[0], \"r\") as file:\n",
    "    data = json.load(file)"
   ]
  },
  {
   "cell_type": "code",
   "execution_count": 9,
   "metadata": {},
   "outputs": [
    {
     "data": {
      "text/plain": [
       "['/home/will/Projects/headliner/datastore/raw/the-new-york-times-old/the-new-york-times-2019-12-27T00:00:00-p001.json',\n",
       " '/home/will/Projects/headliner/datastore/raw/the-new-york-times-old/the-new-york-times-2019-12-27T04:00:00-p001.json',\n",
       " '/home/will/Projects/headliner/datastore/raw/the-new-york-times-old/the-new-york-times-2019-12-27T08:00:00-p001.json',\n",
       " '/home/will/Projects/headliner/datastore/raw/the-new-york-times-old/the-new-york-times-2019-12-27T08:00:00-p002.json',\n",
       " '/home/will/Projects/headliner/datastore/raw/the-new-york-times-old/the-new-york-times-2019-12-27T12:00:00-p001.json',\n",
       " '/home/will/Projects/headliner/datastore/raw/the-new-york-times-old/the-new-york-times-2019-12-27T16:00:00-p001.json',\n",
       " '/home/will/Projects/headliner/datastore/raw/the-new-york-times-old/the-new-york-times-2019-12-27T20:00:00-p001.json']"
      ]
     },
     "execution_count": 9,
     "metadata": {},
     "output_type": "execute_result"
    }
   ],
   "source": [
    "filenames"
   ]
  },
  {
   "cell_type": "code",
   "execution_count": 100,
   "metadata": {},
   "outputs": [
    {
     "data": {
      "text/plain": [
       "dict"
      ]
     },
     "execution_count": 100,
     "metadata": {},
     "output_type": "execute_result"
    }
   ],
   "source": [
    "type(data)"
   ]
  },
  {
   "cell_type": "code",
   "execution_count": 114,
   "metadata": {},
   "outputs": [],
   "source": [
    "from collections import Mapping\n",
    "import json\n",
    "\n",
    "with open(filenames[0], \"r\") as file:\n",
    "    original = json.load(file)\n",
    "\n",
    "with open(filenames[1], \"r\") as file:\n",
    "    addition = json.load(file)\n",
    "\n",
    "def merge_json(original, addition):\n",
    "\n",
    "    for key, value in addition.items():\n",
    "        if key in original:\n",
    "            original_value = original[key]\n",
    "            if isinstance(value, Mapping) and isinstance(original_value, Mapping):\n",
    "                merge_dicts(original_value, value)\n",
    "            elif not (isinstance(value, Mapping) or \n",
    "                      isinstance(original_value, Mapping)):\n",
    "                original[key] = value\n",
    "            else:\n",
    "                raise ValueError('Attempting to merge {} with value {}'.format(\n",
    "                    key, original_value))\n",
    "        else:\n",
    "            original[key] = value\n",
    "    \n",
    "    return original"
   ]
  },
  {
   "cell_type": "code",
   "execution_count": 115,
   "metadata": {},
   "outputs": [
    {
     "data": {
      "text/plain": [
       "{'status': 'ok',\n",
       " 'totalResults': 8,\n",
       " 'articles': [{'source': {'id': 'the-new-york-times',\n",
       "    'name': 'The New York Times'},\n",
       "   'author': 'Deb Amlen',\n",
       "   'title': 'Take for a Spin',\n",
       "   'description': '— Now this is the way to slide into a weekend, particularly the last one of the year. Sam Trabucco debuts a whopping 10 entries and even the stuff we’ve seen before is delightful. It’s not the most difficult Friday puzzle I’ve ever solved, but that’s meant to…',\n",
       "   'url': 'https://www.nytimes.com/2019/12/26/crosswords/daily-puzzle-2019-12-27.html',\n",
       "   'urlToImage': 'https://static01.nyt.com/images/2019/12/27/crosswords/27wordplay-racecar/merlin_24220895_b7bfa44b-4bd5-4dae-bde4-b4fb294e1bab-facebookJumbo.jpg',\n",
       "   'publishedAt': '2019-12-27T03:56:00Z',\n",
       "   'content': '8D. Nicely done. A Father figure? is a DAD BOD.\\r\\n46D. The clue Wedding circle? sounds as if it might be hinting at a wedding ring, but not in this puzzle. This is a Jewish wedding, and we are dancing the HORA, which is performed in a circle.\\r\\n52D. I love this… [+956 chars]'},\n",
       "  {'source': {'id': 'the-new-york-times', 'name': 'The New York Times'},\n",
       "   'author': 'Daniel Victor',\n",
       "   'title': 'At Least 7 Killed in Plane Crash in Kazakhstan - The New York Times',\n",
       "   'description': 'At Least 7 Killed in Plane Crash in Kazakhstan The New York Times Kazakhstan plane crash: Bek Air plane comes down near Almaty airport BBC News Almaty plane crash: Bek Air flight crashes in Kazakstan CNN Airliner carrying 100 passengers crashes near Kazakhsta…',\n",
       "   'url': 'https://www.nytimes.com/2019/12/26/world/asia/plane-crash-almaty-kazakhstan.html',\n",
       "   'urlToImage': 'https://static01.nyt.com/images/2019/12/26/us/26alamaty-crash/26alamaty-crash-facebookJumbo.jpg',\n",
       "   'publishedAt': '2019-12-27T03:48:00Z',\n",
       "   'content': 'At 7:22 a.m., the plane, a Fokker 100,bound for Nur-Sultan, the Kazakhstan capital, lost altitude and crashed into a two-story building, officials said.'},\n",
       "  {'source': {'id': 'the-new-york-times', 'name': 'The New York Times'},\n",
       "   'author': 'Heather Murphy',\n",
       "   'title': 'The F.A.A. Wants to Start Tracking Drones’ Locations',\n",
       "   'description': 'A proposal would require most drones flying in American airspace to include technology that would allow the government to keep tabs on them.',\n",
       "   'url': 'https://www.nytimes.com/2019/12/26/business/drones-faa-tracking.html',\n",
       "   'urlToImage': 'https://static01.nyt.com/images/2019/12/26/multimedia/26xp-drone/26xp-drone-facebookJumbo.jpg',\n",
       "   'publishedAt': '2019-12-27T03:25:18Z',\n",
       "   'content': 'Search and rescue missions often require going at least four times that distance, he said. People will literally die from these rules, he said, adding that other industries that are thriving with drones like utility inspection, precision agriculture, land sur… [+1421 chars]'},\n",
       "  {'source': {'id': 'the-new-york-times', 'name': 'The New York Times'},\n",
       "   'author': 'The Associated Press',\n",
       "   'title': 'Louisiana Tech Beats Miami 14-0 in Independence BowlLouisiana Tech Beats Miami 14-0 in Independence Bowl - The New York Times',\n",
       "   'description': \"J'Mar Smith threw a touchdown pass and had a late scoring run to help Louisiana Tech beat Miami 14-0 on Thursday night in the only shutout in the Independence Bowl’s 44-game history.\",\n",
       "   'url': 'https://www.nytimes.com/aponline/2019/12/26/sports/ncaafootball/bc-fbc-independence-bowl.html',\n",
       "   'urlToImage': 'https://static01.nyt.com/newsgraphics/images/icons/defaultPromoCrop.png',\n",
       "   'publishedAt': '2019-12-27T01:24:00Z',\n",
       "   'content': 'The teams set the game record for punts at 18, with both tying the single-club record of nine.\\r\\nTHE TAKEAWAY\\r\\nLouisiana Tech: The season will forever be tainted by what if for the Bulldogs. Following a season-opening loss at Texas, Louisiana Tech rattled off … [+692 chars]'},\n",
       "  {'source': {'id': 'the-new-york-times', 'name': 'The New York Times'},\n",
       "   'author': 'Katharine Q. Seelye',\n",
       "   'title': 'William Greider, Journalist Who Focused on Economy, Dies at 83',\n",
       "   'description': 'In interviews with Reagan’s budget director, David Stockman, he exposed doubts about the supply-side economics that the administration had embraced.',\n",
       "   'url': 'https://www.nytimes.com/2019/12/26/business/media/william-greider-dead.html',\n",
       "   'urlToImage': 'https://static01.nyt.com/images/2019/12/27/obituaries/27greider/27greider-facebookJumbo.jpg',\n",
       "   'publishedAt': '2019-12-27T00:48:32Z',\n",
       "   'content': 'None of us really understands whats going on with all these numbers, Mr. Stockman told Mr. Greider in one of several damning passages.\\r\\nThe essay won the George Polk Award for magazine writing and was reprinted as part of Mr. Greiders subsequent book, The Edu… [+1243 chars]'},\n",
       "  {'source': {'id': 'the-new-york-times', 'name': 'The New York Times'},\n",
       "   'author': 'Ed Shanahan',\n",
       "   'title': 'E-Bikes and E-Scooter Rentals Won’t Be Allowed in N.Y. Anytime Soon',\n",
       "   'description': 'Gov. Andrew Cuomo vetoed a bill that would have legalized both types of transport, angering supporters of the measure.',\n",
       "   'url': 'https://www.nytimes.com/2019/12/26/nyregion/Ebikes-scooters-Bill-ny.html',\n",
       "   'urlToImage': 'https://static01.nyt.com/images/2019/12/27/nyregion/27ebikes-print1/27ebikes-facebookJumbo.jpg',\n",
       "   'publishedAt': '2019-12-27T00:38:36Z',\n",
       "   'content': 'Danny Harris, the executive director of Transportation Alternatives, an advocacy organization, said in a statement that Governor Cuomo, a supposed champion for immigrants and the working poor, has failed to protect 40,000 low-wage, mostly immigrant workers in… [+1449 chars]'},\n",
       "  {'source': {'id': 'the-new-york-times', 'name': 'The New York Times'},\n",
       "   'author': 'Rory Smith',\n",
       "   'title': 'In Premier League, Everyone Is Talking Title Except Liverpool',\n",
       "   'description': 'A victory at Leicester extended its advantage atop the Premier League, but the team’s players and fans are reluctant to tempt fate this time.',\n",
       "   'url': 'https://www.nytimes.com/2019/12/26/sports/soccer/liverpool-leicester-premier-league.html',\n",
       "   'urlToImage': 'https://static01.nyt.com/images/2019/12/27/sports/26onsoccer-liverpool-print/26onsoccer1-facebookJumbo.jpg',\n",
       "   'publishedAt': '2019-12-27T00:08:55Z',\n",
       "   'content': 'There is a reason. Liverpools fans know more than most about tempting fate. They sang the line in 2009, after a last-minute, pulse-quickening win against Fulham in the spring, only to see Manchester United slip into another gear and roar past in the last few … [+856 chars]'},\n",
       "  {'source': {'id': 'the-new-york-times', 'name': 'The New York Times'},\n",
       "   'author': 'Debora Spar',\n",
       "   'title': 'The Rise of Fertility Start-ups',\n",
       "   'description': 'For Green and the Forerunner team, whose previous investments include retail companies like Warby Parker, Glossier and Dollar Shave Club, the appeal came from recognizing that low customer satisfaction in health care, and a dearth of investment in women’s hea…',\n",
       "   'url': 'https://parenting.nytimes.com/becoming-a-parent/fertility-startups-kindbody',\n",
       "   'urlToImage': 'https://static01.nyt.com/images/2019/12/19/multimedia/19-parenting-babybusiness/19-parenting-babybusiness-facebookJumbo.jpg',\n",
       "   'publishedAt': '2019-12-27T00:00:00Z',\n",
       "   'content': 'CreditArmando Veve\\r\\nOver the course of 2019 alone, investors have put more than $150 million into companies like Modern Fertility and EverlyWell, which make at-home fertility-testing kits for women (each $159); Dadi, which provides sperm testing, freezing and… [+4100 chars]'}]}"
      ]
     },
     "execution_count": 115,
     "metadata": {},
     "output_type": "execute_result"
    }
   ],
   "source": [
    "original"
   ]
  },
  {
   "cell_type": "code",
   "execution_count": 113,
   "metadata": {},
   "outputs": [
    {
     "data": {
      "text/plain": [
       "{'status': 'ok',\n",
       " 'totalResults': 7,\n",
       " 'articles': [{'source': {'id': 'the-new-york-times',\n",
       "    'name': 'The New York Times'},\n",
       "   'author': 'Tyler Kepner',\n",
       "   'title': 'Larry Walker Played Like a Hall of Famer, Through Thick and Thin Air',\n",
       "   'description': 'Never mind the benefits of playing in Denver: Walker’s all-around performance is worth a pass to the Hall in his final year of eligibility.',\n",
       "   'url': 'https://www.nytimes.com/2019/12/27/sports/baseball/larry-walker-hall-of-fame.html',\n",
       "   'urlToImage': 'https://static01.nyt.com/images/2019/12/27/sports/26kepner-hof1-print/merlin_166357926_ebf6abc7-1b1c-499d-8fbc-2e5a8632c673-facebookJumbo.jpg',\n",
       "   'publishedAt': '2019-12-27T07:00:08Z',\n",
       "   'content': 'Switching from thin air to sea level all season takes a toll on the body, Weiss said, and the Rockies are the only team that must leave its time zone for every road game. Hitters can struggle on the road because pitches behave differently, he added; the same … [+1941 chars]'},\n",
       "  {'source': {'id': 'the-new-york-times', 'name': 'The New York Times'},\n",
       "   'author': 'Alan Blinder',\n",
       "   'title': 'Joe Burrow and Jalen Hurts: Scouting Reports From Teammates and Rivals',\n",
       "   'description': 'As Louisiana State and Oklahoma prepare to play Saturday in a duel between two of America’s best college quarterbacks, it’s clear that no one will be surprised if the signal callers have dazzling moments.',\n",
       "   'url': 'https://www.nytimes.com/2019/12/27/sports/ncaafootball/lsu-oklahoma-burrow-hurts.html',\n",
       "   'urlToImage': 'https://static01.nyt.com/images/2019/12/26/sports/26cfp-burrow-and-hurts/26cfp-burrow-and-hurts-facebookJumbo.jpg',\n",
       "   'publishedAt': '2019-12-27T06:00:07Z',\n",
       "   'content': 'Hurts: I have a lot of respect for Joe Burrow. I think hes handled this season really well, been very consistent all season from what Ive seen. I think hes done great in executing and being efficient in what they do.\\r\\nTotal offense: 4,889 yards\\r\\nYards per gam… [+1660 chars]'},\n",
       "  {'source': {'id': 'the-new-york-times', 'name': 'The New York Times'},\n",
       "   'author': 'Bhadra Sharma and Jeffrey Gettleman',\n",
       "   'title': 'An Old Menstruation Taboo Killed Her. This Time, a Man Went to Jail.',\n",
       "   'description': 'In a first for Nepal, the authorities have arrested a man who forced his sister-in-law to sleep out in a cold hut during her period.',\n",
       "   'url': 'https://www.nytimes.com/2019/12/27/world/asia/nepal-menstruation-hut-chhaupadi.html',\n",
       "   'urlToImage': 'https://static01.nyt.com/images/2019/12/27/world/27nepal-1/27nepal-1-facebookJumbo.jpg',\n",
       "   'publishedAt': '2019-12-27T05:43:29Z',\n",
       "   'content': 'In Nepali language, chhaupadi means someone who bears an impurity. Menstruating women are considered polluted, even toxic, and from the earliest age, people here are taught that any contact with a menstruating woman will bring bad luck.\\r\\nAn oppressive traditi… [+1922 chars]'},\n",
       "  {'source': {'id': 'the-new-york-times', 'name': 'The New York Times'},\n",
       "   'author': 'Dave Philipps',\n",
       "   'title': 'Anguish and Anger From the Navy SEALS Who Turned In Edward Gallagher',\n",
       "   'description': 'Video interviews and group texts obtained by The Times show men describing their platoon leader in grim terms.',\n",
       "   'url': 'https://www.nytimes.com/2019/12/27/us/navy-seals-edward-gallagher-video.html',\n",
       "   'urlToImage': 'https://static01.nyt.com/images/2019/12/23/us/00SEALS-gallagher/00SEALS-gallagher-facebookJumbo.jpg',\n",
       "   'publishedAt': '2019-12-27T05:12:38Z',\n",
       "   'content': 'Special Operator Vriens told investigators he had wanted to confront the chief in Iraq but had worried that if he did, he would be cut from missions and no longer be present to protect other SEALs from the chief. As he spoke, he struggled to keep his composur… [+1713 chars]'},\n",
       "  {'source': {'id': 'the-new-york-times', 'name': 'The New York Times'},\n",
       "   'author': None,\n",
       "   'title': 'Confidential Videos Show Why Navy SEALs Reported Edward Gallagher',\n",
       "   'description': 'Watch never-before-released video and confidential interviews with the Navy SEALs who accused  Special Operations Chief Edward Gallagher of war crimes.',\n",
       "   'url': 'https://www.nytimes.com/2019/12/27/the-weekly/eddie-gallagher-navy-seal.html',\n",
       "   'urlToImage': 'https://static01.nyt.com/images/2019/12/29/universal/29theweekly-gallaghereffect-gallagherweapon/29theweekly-gallaghereffect-gallagherweapon-facebookJumbo.jpg',\n",
       "   'publishedAt': '2019-12-27T05:03:45Z',\n",
       "   'content': 'Producers Jessica Dimmock and Zackary Canepari\\r\\nCombat video, text messages and confidential interviews with members of the Navy SEALs obtained by The New York Times reveal chilling details about the conduct of Special Operations Chief Edward Gallagher, a bon… [+711 chars]'},\n",
       "  {'source': {'id': 'the-new-york-times', 'name': 'The New York Times'},\n",
       "   'author': 'By Tammy Rabideau',\n",
       "   'title': 'As the Ball Dropped, Our Life Fell Apart',\n",
       "   'description': 'For a struggling mother and daughter, a New Year’s Eve eviction leads to confusion, courage and grace.',\n",
       "   'url': 'https://www.nytimes.com/2019/12/27/style/modern-love-evicted-homeless-new-years-eve.html',\n",
       "   'urlToImage': 'https://static01.nyt.com/images/2019/12/29/fashion/29MODERN/29MODERN-facebookJumbo.jpg',\n",
       "   'publishedAt': '2019-12-27T05:00:07Z',\n",
       "   'content': 'During Kristils freshman year of high school, she announced that she wanted to attend a high-level college and began researching what was needed to be accepted into such a school. I figured the University of Wisconsin would be a great option to strive for, bu… [+1646 chars]'},\n",
       "  {'source': {'id': 'the-new-york-times', 'name': 'The New York Times'},\n",
       "   'author': 'Ben Dooley',\n",
       "   'title': 'Japan to Deploy Warship to Middle East',\n",
       "   'description': 'The rare overseas mission follows an attack on a Japanese oil tanker and increased pressure from the United States to play a more active role in the volatile region.',\n",
       "   'url': 'https://www.nytimes.com/2019/12/26/world/asia/japan-iran-military-patrol.html',\n",
       "   'urlToImage': 'https://static01.nyt.com/images/2019/12/27/world/27japan-1/27japan-1-facebookJumbo.jpg',\n",
       "   'publishedAt': '2019-12-27T04:00:59Z',\n",
       "   'content': 'Japan, which depends on the United States for its defense, has come under pressure from President Trump to play a more active role in protecting its interests in the Middle East.\\r\\nThe Japanese mission will be conducted independent of any other nations deploym… [+690 chars]'}]}"
      ]
     },
     "execution_count": 113,
     "metadata": {},
     "output_type": "execute_result"
    }
   ],
   "source": [
    "addition"
   ]
  },
  {
   "cell_type": "code",
   "execution_count": 111,
   "metadata": {},
   "outputs": [
    {
     "data": {
      "text/plain": [
       "{'status': 'ok',\n",
       " 'totalResults': 7,\n",
       " 'articles': [{'source': {'id': 'the-new-york-times',\n",
       "    'name': 'The New York Times'},\n",
       "   'author': 'Tyler Kepner',\n",
       "   'title': 'Larry Walker Played Like a Hall of Famer, Through Thick and Thin Air',\n",
       "   'description': 'Never mind the benefits of playing in Denver: Walker’s all-around performance is worth a pass to the Hall in his final year of eligibility.',\n",
       "   'url': 'https://www.nytimes.com/2019/12/27/sports/baseball/larry-walker-hall-of-fame.html',\n",
       "   'urlToImage': 'https://static01.nyt.com/images/2019/12/27/sports/26kepner-hof1-print/merlin_166357926_ebf6abc7-1b1c-499d-8fbc-2e5a8632c673-facebookJumbo.jpg',\n",
       "   'publishedAt': '2019-12-27T07:00:08Z',\n",
       "   'content': 'Switching from thin air to sea level all season takes a toll on the body, Weiss said, and the Rockies are the only team that must leave its time zone for every road game. Hitters can struggle on the road because pitches behave differently, he added; the same … [+1941 chars]'},\n",
       "  {'source': {'id': 'the-new-york-times', 'name': 'The New York Times'},\n",
       "   'author': 'Alan Blinder',\n",
       "   'title': 'Joe Burrow and Jalen Hurts: Scouting Reports From Teammates and Rivals',\n",
       "   'description': 'As Louisiana State and Oklahoma prepare to play Saturday in a duel between two of America’s best college quarterbacks, it’s clear that no one will be surprised if the signal callers have dazzling moments.',\n",
       "   'url': 'https://www.nytimes.com/2019/12/27/sports/ncaafootball/lsu-oklahoma-burrow-hurts.html',\n",
       "   'urlToImage': 'https://static01.nyt.com/images/2019/12/26/sports/26cfp-burrow-and-hurts/26cfp-burrow-and-hurts-facebookJumbo.jpg',\n",
       "   'publishedAt': '2019-12-27T06:00:07Z',\n",
       "   'content': 'Hurts: I have a lot of respect for Joe Burrow. I think hes handled this season really well, been very consistent all season from what Ive seen. I think hes done great in executing and being efficient in what they do.\\r\\nTotal offense: 4,889 yards\\r\\nYards per gam… [+1660 chars]'},\n",
       "  {'source': {'id': 'the-new-york-times', 'name': 'The New York Times'},\n",
       "   'author': 'Bhadra Sharma and Jeffrey Gettleman',\n",
       "   'title': 'An Old Menstruation Taboo Killed Her. This Time, a Man Went to Jail.',\n",
       "   'description': 'In a first for Nepal, the authorities have arrested a man who forced his sister-in-law to sleep out in a cold hut during her period.',\n",
       "   'url': 'https://www.nytimes.com/2019/12/27/world/asia/nepal-menstruation-hut-chhaupadi.html',\n",
       "   'urlToImage': 'https://static01.nyt.com/images/2019/12/27/world/27nepal-1/27nepal-1-facebookJumbo.jpg',\n",
       "   'publishedAt': '2019-12-27T05:43:29Z',\n",
       "   'content': 'In Nepali language, chhaupadi means someone who bears an impurity. Menstruating women are considered polluted, even toxic, and from the earliest age, people here are taught that any contact with a menstruating woman will bring bad luck.\\r\\nAn oppressive traditi… [+1922 chars]'},\n",
       "  {'source': {'id': 'the-new-york-times', 'name': 'The New York Times'},\n",
       "   'author': 'Dave Philipps',\n",
       "   'title': 'Anguish and Anger From the Navy SEALS Who Turned In Edward Gallagher',\n",
       "   'description': 'Video interviews and group texts obtained by The Times show men describing their platoon leader in grim terms.',\n",
       "   'url': 'https://www.nytimes.com/2019/12/27/us/navy-seals-edward-gallagher-video.html',\n",
       "   'urlToImage': 'https://static01.nyt.com/images/2019/12/23/us/00SEALS-gallagher/00SEALS-gallagher-facebookJumbo.jpg',\n",
       "   'publishedAt': '2019-12-27T05:12:38Z',\n",
       "   'content': 'Special Operator Vriens told investigators he had wanted to confront the chief in Iraq but had worried that if he did, he would be cut from missions and no longer be present to protect other SEALs from the chief. As he spoke, he struggled to keep his composur… [+1713 chars]'},\n",
       "  {'source': {'id': 'the-new-york-times', 'name': 'The New York Times'},\n",
       "   'author': None,\n",
       "   'title': 'Confidential Videos Show Why Navy SEALs Reported Edward Gallagher',\n",
       "   'description': 'Watch never-before-released video and confidential interviews with the Navy SEALs who accused  Special Operations Chief Edward Gallagher of war crimes.',\n",
       "   'url': 'https://www.nytimes.com/2019/12/27/the-weekly/eddie-gallagher-navy-seal.html',\n",
       "   'urlToImage': 'https://static01.nyt.com/images/2019/12/29/universal/29theweekly-gallaghereffect-gallagherweapon/29theweekly-gallaghereffect-gallagherweapon-facebookJumbo.jpg',\n",
       "   'publishedAt': '2019-12-27T05:03:45Z',\n",
       "   'content': 'Producers Jessica Dimmock and Zackary Canepari\\r\\nCombat video, text messages and confidential interviews with members of the Navy SEALs obtained by The New York Times reveal chilling details about the conduct of Special Operations Chief Edward Gallagher, a bon… [+711 chars]'},\n",
       "  {'source': {'id': 'the-new-york-times', 'name': 'The New York Times'},\n",
       "   'author': 'By Tammy Rabideau',\n",
       "   'title': 'As the Ball Dropped, Our Life Fell Apart',\n",
       "   'description': 'For a struggling mother and daughter, a New Year’s Eve eviction leads to confusion, courage and grace.',\n",
       "   'url': 'https://www.nytimes.com/2019/12/27/style/modern-love-evicted-homeless-new-years-eve.html',\n",
       "   'urlToImage': 'https://static01.nyt.com/images/2019/12/29/fashion/29MODERN/29MODERN-facebookJumbo.jpg',\n",
       "   'publishedAt': '2019-12-27T05:00:07Z',\n",
       "   'content': 'During Kristils freshman year of high school, she announced that she wanted to attend a high-level college and began researching what was needed to be accepted into such a school. I figured the University of Wisconsin would be a great option to strive for, bu… [+1646 chars]'},\n",
       "  {'source': {'id': 'the-new-york-times', 'name': 'The New York Times'},\n",
       "   'author': 'Ben Dooley',\n",
       "   'title': 'Japan to Deploy Warship to Middle East',\n",
       "   'description': 'The rare overseas mission follows an attack on a Japanese oil tanker and increased pressure from the United States to play a more active role in the volatile region.',\n",
       "   'url': 'https://www.nytimes.com/2019/12/26/world/asia/japan-iran-military-patrol.html',\n",
       "   'urlToImage': 'https://static01.nyt.com/images/2019/12/27/world/27japan-1/27japan-1-facebookJumbo.jpg',\n",
       "   'publishedAt': '2019-12-27T04:00:59Z',\n",
       "   'content': 'Japan, which depends on the United States for its defense, has come under pressure from President Trump to play a more active role in protecting its interests in the Middle East.\\r\\nThe Japanese mission will be conducted independent of any other nations deploym… [+690 chars]'}]}"
      ]
     },
     "execution_count": 111,
     "metadata": {},
     "output_type": "execute_result"
    }
   ],
   "source": [
    "merge_json(original, addition)"
   ]
  },
  {
   "cell_type": "code",
   "execution_count": 109,
   "metadata": {},
   "outputs": [
    {
     "data": {
      "text/plain": [
       "dict"
      ]
     },
     "execution_count": 109,
     "metadata": {},
     "output_type": "execute_result"
    }
   ],
   "source": [
    "type(addition)"
   ]
  },
  {
   "cell_type": "code",
   "execution_count": null,
   "metadata": {},
   "outputs": [],
   "source": []
  }
 ],
 "metadata": {
  "file_extension": ".py",
  "kernelspec": {
   "display_name": "Python 3",
   "language": "python",
   "name": "python3"
  },
  "language_info": {
   "codemirror_mode": {
    "name": "ipython",
    "version": 3
   },
   "file_extension": ".py",
   "mimetype": "text/x-python",
   "name": "python",
   "nbconvert_exporter": "python",
   "pygments_lexer": "ipython3",
   "version": "3.8.0"
  },
  "mimetype": "text/x-python",
  "name": "python",
  "npconvert_exporter": "python",
  "pygments_lexer": "ipython3",
  "version": 3
 },
 "nbformat": 4,
 "nbformat_minor": 4
}
