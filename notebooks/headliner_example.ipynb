{
 "cells": [
  {
   "cell_type": "markdown",
   "metadata": {},
   "source": [
    "https://newsapi.org/docs/endpoints/top-headlines"
   ]
  },
  {
   "cell_type": "code",
   "execution_count": 65,
   "metadata": {},
   "outputs": [
    {
     "data": {
      "text/plain": [
       "True"
      ]
     },
     "execution_count": 65,
     "metadata": {},
     "output_type": "execute_result"
    }
   ],
   "source": [
    "import os\n",
    "from dotenv import load_dotenv\n",
    "from newsapi import NewsApiClient\n",
    "\n",
    "from datetime import datetime, timedelta\n",
    "import pytz\n",
    "import json\n",
    "\n",
    "\n",
    "load_dotenv()"
   ]
  },
  {
   "cell_type": "code",
   "execution_count": 54,
   "metadata": {},
   "outputs": [],
   "source": [
    "API_KEY = os.getenv('NEWSAPI_KEY')\n",
    "api = NewsApiClient(api_key=API_KEY)"
   ]
  },
  {
   "cell_type": "code",
   "execution_count": null,
   "metadata": {},
   "outputs": [],
   "source": [
    "now = datetime.now(pytz.utc)\n",
    "now.strftime('%Y-%m-%d-')"
   ]
  },
  {
   "cell_type": "code",
   "execution_count": 6,
   "metadata": {},
   "outputs": [],
   "source": [
    "# gather a list of the sources\n",
    "#sources = api.get_sources()\n",
    "\n",
    "# with open('outputs/sources.json', 'w') as fp:\n",
    "#     json.dump(sources, fp)"
   ]
  },
  {
   "cell_type": "code",
   "execution_count": null,
   "metadata": {},
   "outputs": [],
   "source": [
    "def acquire(source='the-new-york-times', )"
   ]
  },
  {
   "cell_type": "code",
   "execution_count": 25,
   "metadata": {},
   "outputs": [],
   "source": [
    "fox_top_headlines = api.get_top_headlines(sources='fox-news')\n",
    "fox_headlines = api.get_everything(sources='fox-news')\n",
    "nyt_top_headlines = api.get_top_headlines(sources='the-new-york-times')\n",
    "nyt_headlines = api.get_everything(sources='the-new-york-times')"
   ]
  },
  {
   "cell_type": "code",
   "execution_count": 81,
   "metadata": {},
   "outputs": [],
   "source": [
    "def top_headlines_now(country='us'):\n",
    "\n",
    "    now = datetime.now(pytz.utc)\n",
    "    \n",
    "    results =  api.get_top_headlines(country = 'us')\n",
    "\n",
    "    date_string = now.strftime('%Y-%m-%dT%H:%M:%S')\n",
    "\n",
    "    with open(f\"headline-store-json/{date_string}-top-headlines.json\", 'w') as file:\n",
    "        json.dump(results, file)"
   ]
  },
  {
   "cell_type": "code",
   "execution_count": 99,
   "metadata": {},
   "outputs": [
    {
     "data": {
      "text/plain": [
       "'05'"
      ]
     },
     "execution_count": 99,
     "metadata": {},
     "output_type": "execute_result"
    }
   ],
   "source": [
    "what=5\n",
    "f\"{what:02}\""
   ]
  },
  {
   "cell_type": "code",
   "execution_count": 100,
   "metadata": {},
   "outputs": [],
   "source": [
    "def get_sources_on_date(begin_date, page=1):\n",
    "\n",
    "    source = \"fox-news\"\n",
    "    \n",
    "    end_date = begin_date + timedelta(days=1, seconds=-1)\n",
    "\n",
    "    results =  api.get_everything(\n",
    "        from_param = begin_date.strftime('%Y-%m-%dT%H:%M:%S'),\n",
    "        to = end_date.strftime('%Y-%m-%dT%H:%M:%S'),\n",
    "        language = 'en',\n",
    "        sources = source, # Max 20 sources\n",
    "        page = page\n",
    "    )\n",
    "\n",
    "    date_string = begin_date.strftime('%Y-%m-%d')\n",
    "\n",
    "    with open(f\"headline-store-json/{date_string}-{source}-{page:03}.json\", 'w') as file:\n",
    "        json.dump(results, file)"
   ]
  },
  {
   "cell_type": "code",
   "execution_count": 108,
   "metadata": {},
   "outputs": [],
   "source": [
    "#top_headlines_now()\n",
    "get_sources_on_date(datetime(2020, 1, 1, 0, 0, 0), page=1)"
   ]
  },
  {
   "cell_type": "code",
   "execution_count": 23,
   "metadata": {},
   "outputs": [],
   "source": [
    "with open('outputs/.json', 'w') as fp:\n",
    "    json.dump(fox_top_headlines, fp)\n"
   ]
  },
  {
   "cell_type": "code",
   "execution_count": 26,
   "metadata": {},
   "outputs": [],
   "source": [
    "with open('outputs/fox_top_headlines.json', 'w') as fp:\n",
    "    json.dump(fox_top_headlines, fp)"
   ]
  },
  {
   "cell_type": "code",
   "execution_count": 27,
   "metadata": {},
   "outputs": [],
   "source": [
    "with open('outputs/fox_headlines.json', 'w') as fp:\n",
    "    json.dump(fox_headlines, fp)"
   ]
  },
  {
   "cell_type": "code",
   "execution_count": 28,
   "metadata": {},
   "outputs": [],
   "source": [
    "with open('outputs/nyt_top_headlines.json', 'w') as fp:\n",
    "    json.dump(nyt_top_headlines, fp)"
   ]
  },
  {
   "cell_type": "code",
   "execution_count": 29,
   "metadata": {},
   "outputs": [],
   "source": [
    "with open('outputs/nyt_headlines.json', 'w') as fp:\n",
    "    json.dump(nyt_headlines, fp)"
   ]
  },
  {
   "cell_type": "code",
   "execution_count": 40,
   "metadata": {},
   "outputs": [],
   "source": []
  },
  {
   "cell_type": "code",
   "execution_count": 46,
   "metadata": {},
   "outputs": [],
   "source": []
  },
  {
   "cell_type": "code",
   "execution_count": 51,
   "metadata": {},
   "outputs": [
    {
     "data": {
      "text/plain": [
       "'2020-01-05'"
      ]
     },
     "execution_count": 51,
     "metadata": {},
     "output_type": "execute_result"
    }
   ],
   "source": []
  }
 ],
 "metadata": {
  "file_extension": ".py",
  "kernelspec": {
   "display_name": "Python 3",
   "language": "python",
   "name": "python3"
  },
  "language_info": {
   "codemirror_mode": {
    "name": "ipython",
    "version": 3
   },
   "file_extension": ".py",
   "mimetype": "text/x-python",
   "name": "python",
   "nbconvert_exporter": "python",
   "pygments_lexer": "ipython3",
   "version": "3.7.3"
  },
  "mimetype": "text/x-python",
  "name": "python",
  "npconvert_exporter": "python",
  "pygments_lexer": "ipython3",
  "version": 3
 },
 "nbformat": 4,
 "nbformat_minor": 4
}
